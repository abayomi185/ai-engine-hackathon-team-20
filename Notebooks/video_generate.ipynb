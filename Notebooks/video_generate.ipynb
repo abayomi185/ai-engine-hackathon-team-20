{
 "cells": [
  {
   "cell_type": "code",
   "execution_count": 61,
   "id": "b6add209",
   "metadata": {},
   "outputs": [],
   "source": [
    "import asyncio\n",
    "import os\n",
    "from dotenv import load_dotenv"
   ]
  },
  {
   "cell_type": "code",
   "execution_count": 14,
   "id": "04f4e16b",
   "metadata": {},
   "outputs": [],
   "source": [
    "from runware import Runware, IVideoInference"
   ]
  },
  {
   "cell_type": "code",
   "execution_count": 18,
   "id": "d71760cb",
   "metadata": {},
   "outputs": [
    {
     "data": {
      "text/plain": [
       "True"
      ]
     },
     "execution_count": 18,
     "metadata": {},
     "output_type": "execute_result"
    }
   ],
   "source": [
    "load_dotenv(override=True)"
   ]
  },
  {
   "cell_type": "code",
   "execution_count": 19,
   "id": "b4573768",
   "metadata": {},
   "outputs": [],
   "source": [
    "api_key = os.getenv(\"RUNWARE_API_KEY\")"
   ]
  },
  {
   "cell_type": "code",
   "execution_count": 36,
   "id": "3194dca1",
   "metadata": {},
   "outputs": [],
   "source": [
    "runware = Runware(\n",
    "    api_key=api_key,\n",
    ")\n",
    "await runware.connect()"
   ]
  },
  {
   "cell_type": "markdown",
   "id": "8553f982",
   "metadata": {},
   "source": [
    "Models:\n",
    "1. klingai:1@1 = 5 mins\n",
    "2. google:3@1 = 55 secs\n",
    "3. "
   ]
  },
  {
   "cell_type": "code",
   "execution_count": 59,
   "id": "dcc2a005",
   "metadata": {},
   "outputs": [],
   "source": [
    "request = IVideoInference(\n",
    "    positivePrompt=\"A majestic eagle soaring through mountain peaks at golden hour, cinematic view\",\n",
    "    model=\"google:3@1\",\n",
    "    width=1280,\n",
    "    height=720,\n",
    "    # duration=5.0,\n",
    "    numberResults=1,\n",
    "    includeCost=True,\n",
    "    # CFGScale=0.5,\n",
    ")"
   ]
  },
  {
   "cell_type": "code",
   "execution_count": 60,
   "id": "40c7510c",
   "metadata": {},
   "outputs": [],
   "source": [
    "videos = await runware.videoInference(requestVideo=request)"
   ]
  },
  {
   "cell_type": "code",
   "execution_count": 49,
   "id": "c7a87d61",
   "metadata": {},
   "outputs": [
    {
     "name": "stdout",
     "output_type": "stream",
     "text": [
      "Video URL: https://vm.runware.ai/video/ws/2/vi/e125d1c2-8f8d-4957-b5aa-ee5561b87f9a.mp4\n",
      "Cost: 3.2\n",
      "Seed: 1161626179\n",
      "Status: success\n"
     ]
    }
   ],
   "source": [
    "for video in videos:\n",
    "    print(f\"Video URL: {video.videoURL}\")\n",
    "    print(f\"Cost: {video.cost}\")\n",
    "    print(f\"Seed: {video.seed}\")\n",
    "    print(f\"Status: {video.status}\")"
   ]
  },
  {
   "cell_type": "code",
   "execution_count": 28,
   "id": "a69cd483",
   "metadata": {},
   "outputs": [],
   "source": [
    "optimized_request = IVideoInference(\n",
    "    positivePrompt=\"A majestic eagle soaring through mountain peaks at golden hour, cinematic view\",\n",
    "    model=\"klingai:1@1\",\n",
    "    width=405,\n",
    "    height=720,\n",
    "    duration=5,\n",
    "    numberResults=1,\n",
    "    includeCost=True,\n",
    "    CFGScale=1,\n",
    ")"
   ]
  },
  {
   "cell_type": "code",
   "execution_count": 29,
   "id": "7b3cfce3",
   "metadata": {},
   "outputs": [],
   "source": [
    "optimized_videos = await runware.videoInference(requestVideo=optimized_request)"
   ]
  },
  {
   "cell_type": "code",
   "execution_count": null,
   "id": "78fea0c9",
   "metadata": {},
   "outputs": [],
   "source": [
    "for video in optimized_videos:\n",
    "    print(f\"Video URL: {video.videoURL}\")\n",
    "    print(f\"Cost: {video.cost}\")\n",
    "    print(f\"Seed: {video.seed}\")\n",
    "    print(f\"Status: {video.status}\")"
   ]
  }
 ],
 "metadata": {
  "kernelspec": {
   "display_name": "genai",
   "language": "python",
   "name": "python3"
  },
  "language_info": {
   "codemirror_mode": {
    "name": "ipython",
    "version": 3
   },
   "file_extension": ".py",
   "mimetype": "text/x-python",
   "name": "python",
   "nbconvert_exporter": "python",
   "pygments_lexer": "ipython3",
   "version": "3.11.9"
  }
 },
 "nbformat": 4,
 "nbformat_minor": 5
}
